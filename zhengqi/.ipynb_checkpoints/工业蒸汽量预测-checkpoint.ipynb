{
 "cells": [
  {
   "cell_type": "markdown",
   "metadata": {},
   "source": [
    "# 阿里天池新人赛 工业蒸汽量预测"
   ]
  },
  {
   "cell_type": "markdown",
   "metadata": {},
   "source": [
    "#### 赛题来自[工业蒸汽量预测](https://tianchi.aliyun.com/competition/entrance/231693/introduction?spm=5176.12281925.0.0.c8667137BbWnWx)  "
   ]
  },
  {
   "cell_type": "markdown",
   "metadata": {},
   "source": [
    "大致背景如下，工业上蒸汽产量主要受到 燃烧给量，一二次风，引风，返料风，给水水量；以及锅炉的工况，比如锅炉床温、床压，炉膛温度、压力，过热器的温度等因素的影响，题目共给出了2个数据集(train.txt and test.txt), 其中含有38种可能影响蒸汽产量的变量数据，对应字段为”V0”-“V37”，其中只有train.txt中包含'target'字段，表示目标变量即蒸汽产量，目标为用已知数据作为训练样本，用训练后的算法模型预测 测试数据中的'target'字段"
   ]
  },
  {
   "cell_type": "markdown",
   "metadata": {},
   "source": [
    "## Content\n",
    "* 环境\n",
    "* 大致思路\n",
    "* 代码实现\n",
    "* 提升方向"
   ]
  },
  {
   "cell_type": "markdown",
   "metadata": {},
   "source": [
    "### 环境"
   ]
  },
  {
   "cell_type": "markdown",
   "metadata": {},
   "source": [
    "需要安装一些常用的 python 的包和库，具体名称和安装方法及教程如下<br>\n",
    "[numpy安装及教程(中文版)](http://www.runoob.com/numpy/numpy-tutorial.html)<br>\n",
    "[numpy官方文档(英文版)](http://www.numpy.org/)<br>\n",
    "[pandas安装及教程(中文版)](https://morvanzhou.github.io/tutorials/data-manipulation/np-pd/)<br>\n",
    "[pandas官方文档(英文版)](https://pandas.pydata.org/)<br>\n",
    "[seaborn官方文档](https://seaborn.pydata.org/installing.html#installingb)<br>\n",
    "[matplotlib](https://matplotlib.org/faq/installing_faq.html)<br>\n",
    "[sklearn安装](https://morvanzhou.github.io/tutorials/machine-learning/sklearn/1-2-install/)\n",
    "<br><br>\n",
    "总的来说几条命令<br>\n",
    "pip3 install numpy<br>\n",
    "pip3 install pandas<br>\n",
    "pip3 install seaborn<br>\n",
    "pip3 install matplotlib<br>\n",
    "pip3 install scikit-learn"
   ]
  },
  {
   "cell_type": "markdown",
   "metadata": {},
   "source": [
    "### 大致思路"
   ]
  },
  {
   "cell_type": "code",
   "execution_count": null,
   "metadata": {},
   "outputs": [],
   "source": []
  }
 ],
 "metadata": {
  "kernelspec": {
   "display_name": "Python 3",
   "language": "python",
   "name": "python3"
  },
  "language_info": {
   "codemirror_mode": {
    "name": "ipython",
    "version": 3
   },
   "file_extension": ".py",
   "mimetype": "text/x-python",
   "name": "python",
   "nbconvert_exporter": "python",
   "pygments_lexer": "ipython3",
   "version": "3.6.0"
  }
 },
 "nbformat": 4,
 "nbformat_minor": 2
}
